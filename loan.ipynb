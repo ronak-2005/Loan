{
 "cells": [
  {
   "cell_type": "code",
   "execution_count": 1,
   "id": "04ddbde9",
   "metadata": {},
   "outputs": [],
   "source": [
    "import pandas as pd\n",
    "import numpy as np\n",
    "from sklearn.linear_model import SGDClassifier, Perceptron, PassiveAggressiveClassifier\n",
    "from sklearn.naive_bayes import MultinomialNB\n",
    "from sklearn.preprocessing import StandardScaler, OneHotEncoder, MinMaxScaler\n",
    "from sklearn.compose import ColumnTransformer\n",
    "from sklearn.pipeline import Pipeline\n",
    "from sklearn.metrics import classification_report\n",
    "from sklearn.impute import SimpleImputer\n",
    "from imblearn.over_sampling import SMOTE"
   ]
  },
  {
   "cell_type": "code",
   "execution_count": 2,
   "id": "7ca4e6b4",
   "metadata": {},
   "outputs": [],
   "source": [
    "PATH = \"accept.csv\"\n",
    "chunk_size = 50000 \n",
    "\n",
    "\n",
    "y_map = {\n",
    "    \"Fully Paid\": 1,\n",
    "    \"Current\": 1,\n",
    "    \"Charged Off\": 0,\n",
    "    \"In Grace Period\": 0,\n",
    "    \"Late (31-120 days)\": 0\n",
    "}\n"
   ]
  },
  {
   "cell_type": "code",
   "execution_count": 3,
   "id": "f9d92380",
   "metadata": {},
   "outputs": [],
   "source": [
    "incremental_models = {\n",
    "    \"SGD\": SGDClassifier(loss=\"log_loss\", random_state=42),\n",
    "    \"Perceptron\": Perceptron(),\n",
    "    \"PassiveAggressive\": PassiveAggressiveClassifier(),\n",
    "}\n",
    "\n",
    "preprocessor = None \n"
   ]
  },
  {
   "cell_type": "code",
   "execution_count": 4,
   "id": "40d70fd1",
   "metadata": {},
   "outputs": [],
   "source": [
    "classes = np.array([0, 1]) \n",
    "is_first = True  "
   ]
  },
  {
   "cell_type": "code",
   "execution_count": 5,
   "id": "0924bad2",
   "metadata": {},
   "outputs": [
    {
     "name": "stderr",
     "output_type": "stream",
     "text": [
      "/tmp/ipykernel_20800/3832180756.py:3: DtypeWarning: Columns (19) have mixed types. Specify dtype option on import or set low_memory=False.\n",
      "  for i, chunk in enumerate(pd.read_csv(PATH, chunksize=chunk_size)):\n",
      "/tmp/ipykernel_20800/3832180756.py:3: DtypeWarning: Columns (19) have mixed types. Specify dtype option on import or set low_memory=False.\n",
      "  for i, chunk in enumerate(pd.read_csv(PATH, chunksize=chunk_size)):\n",
      "/tmp/ipykernel_20800/3832180756.py:3: DtypeWarning: Columns (19,59) have mixed types. Specify dtype option on import or set low_memory=False.\n",
      "  for i, chunk in enumerate(pd.read_csv(PATH, chunksize=chunk_size)):\n",
      "/tmp/ipykernel_20800/3832180756.py:3: DtypeWarning: Columns (19) have mixed types. Specify dtype option on import or set low_memory=False.\n",
      "  for i, chunk in enumerate(pd.read_csv(PATH, chunksize=chunk_size)):\n",
      "/tmp/ipykernel_20800/3832180756.py:3: DtypeWarning: Columns (19) have mixed types. Specify dtype option on import or set low_memory=False.\n",
      "  for i, chunk in enumerate(pd.read_csv(PATH, chunksize=chunk_size)):\n",
      "/tmp/ipykernel_20800/3832180756.py:3: DtypeWarning: Columns (19) have mixed types. Specify dtype option on import or set low_memory=False.\n",
      "  for i, chunk in enumerate(pd.read_csv(PATH, chunksize=chunk_size)):\n",
      "/tmp/ipykernel_20800/3832180756.py:3: DtypeWarning: Columns (19) have mixed types. Specify dtype option on import or set low_memory=False.\n",
      "  for i, chunk in enumerate(pd.read_csv(PATH, chunksize=chunk_size)):\n",
      "/tmp/ipykernel_20800/3832180756.py:3: DtypeWarning: Columns (19) have mixed types. Specify dtype option on import or set low_memory=False.\n",
      "  for i, chunk in enumerate(pd.read_csv(PATH, chunksize=chunk_size)):\n",
      "/tmp/ipykernel_20800/3832180756.py:3: DtypeWarning: Columns (0,19,59,118) have mixed types. Specify dtype option on import or set low_memory=False.\n",
      "  for i, chunk in enumerate(pd.read_csv(PATH, chunksize=chunk_size)):\n",
      "/tmp/ipykernel_20800/3832180756.py:3: DtypeWarning: Columns (0) have mixed types. Specify dtype option on import or set low_memory=False.\n",
      "  for i, chunk in enumerate(pd.read_csv(PATH, chunksize=chunk_size)):\n",
      "/tmp/ipykernel_20800/3832180756.py:3: DtypeWarning: Columns (0,19,118) have mixed types. Specify dtype option on import or set low_memory=False.\n",
      "  for i, chunk in enumerate(pd.read_csv(PATH, chunksize=chunk_size)):\n",
      "/tmp/ipykernel_20800/3832180756.py:3: DtypeWarning: Columns (0,19,118) have mixed types. Specify dtype option on import or set low_memory=False.\n",
      "  for i, chunk in enumerate(pd.read_csv(PATH, chunksize=chunk_size)):\n",
      "/tmp/ipykernel_20800/3832180756.py:3: DtypeWarning: Columns (129,130,131,134,135,136,139,145,146,147) have mixed types. Specify dtype option on import or set low_memory=False.\n",
      "  for i, chunk in enumerate(pd.read_csv(PATH, chunksize=chunk_size)):\n",
      "/tmp/ipykernel_20800/3832180756.py:3: DtypeWarning: Columns (129,130,131,134,135,136,139,145,146,147) have mixed types. Specify dtype option on import or set low_memory=False.\n",
      "  for i, chunk in enumerate(pd.read_csv(PATH, chunksize=chunk_size)):\n",
      "/tmp/ipykernel_20800/3832180756.py:3: DtypeWarning: Columns (0,129,130,131,134,135,136,139,145,146,147) have mixed types. Specify dtype option on import or set low_memory=False.\n",
      "  for i, chunk in enumerate(pd.read_csv(PATH, chunksize=chunk_size)):\n",
      "/tmp/ipykernel_20800/3832180756.py:3: DtypeWarning: Columns (0,19,118) have mixed types. Specify dtype option on import or set low_memory=False.\n",
      "  for i, chunk in enumerate(pd.read_csv(PATH, chunksize=chunk_size)):\n",
      "/tmp/ipykernel_20800/3832180756.py:3: DtypeWarning: Columns (19) have mixed types. Specify dtype option on import or set low_memory=False.\n",
      "  for i, chunk in enumerate(pd.read_csv(PATH, chunksize=chunk_size)):\n",
      "/tmp/ipykernel_20800/3832180756.py:3: DtypeWarning: Columns (19) have mixed types. Specify dtype option on import or set low_memory=False.\n",
      "  for i, chunk in enumerate(pd.read_csv(PATH, chunksize=chunk_size)):\n",
      "/tmp/ipykernel_20800/3832180756.py:3: DtypeWarning: Columns (0,19,59) have mixed types. Specify dtype option on import or set low_memory=False.\n",
      "  for i, chunk in enumerate(pd.read_csv(PATH, chunksize=chunk_size)):\n",
      "/tmp/ipykernel_20800/3832180756.py:3: DtypeWarning: Columns (19) have mixed types. Specify dtype option on import or set low_memory=False.\n",
      "  for i, chunk in enumerate(pd.read_csv(PATH, chunksize=chunk_size)):\n",
      "/tmp/ipykernel_20800/3832180756.py:3: DtypeWarning: Columns (19) have mixed types. Specify dtype option on import or set low_memory=False.\n",
      "  for i, chunk in enumerate(pd.read_csv(PATH, chunksize=chunk_size)):\n",
      "/tmp/ipykernel_20800/3832180756.py:3: DtypeWarning: Columns (19) have mixed types. Specify dtype option on import or set low_memory=False.\n",
      "  for i, chunk in enumerate(pd.read_csv(PATH, chunksize=chunk_size)):\n",
      "/tmp/ipykernel_20800/3832180756.py:3: DtypeWarning: Columns (0,19,129,130,131,134,135,136,139,145,146,147) have mixed types. Specify dtype option on import or set low_memory=False.\n",
      "  for i, chunk in enumerate(pd.read_csv(PATH, chunksize=chunk_size)):\n",
      "/tmp/ipykernel_20800/3832180756.py:3: DtypeWarning: Columns (129,130,131,134,135,136,139,145,146,147) have mixed types. Specify dtype option on import or set low_memory=False.\n",
      "  for i, chunk in enumerate(pd.read_csv(PATH, chunksize=chunk_size)):\n",
      "/tmp/ipykernel_20800/3832180756.py:3: DtypeWarning: Columns (0,129,130,131,134,135,136,139,145,146,147) have mixed types. Specify dtype option on import or set low_memory=False.\n",
      "  for i, chunk in enumerate(pd.read_csv(PATH, chunksize=chunk_size)):\n",
      "/tmp/ipykernel_20800/3832180756.py:3: DtypeWarning: Columns (129,130,131,134,135,136,139) have mixed types. Specify dtype option on import or set low_memory=False.\n",
      "  for i, chunk in enumerate(pd.read_csv(PATH, chunksize=chunk_size)):\n",
      "/tmp/ipykernel_20800/3832180756.py:3: DtypeWarning: Columns (0,19,49,59,118,129,130,131,134,135,136,139,145,146,147) have mixed types. Specify dtype option on import or set low_memory=False.\n",
      "  for i, chunk in enumerate(pd.read_csv(PATH, chunksize=chunk_size)):\n",
      "/tmp/ipykernel_20800/3832180756.py:3: DtypeWarning: Columns (0,19,59,118,129,130,131,134,135,136,139) have mixed types. Specify dtype option on import or set low_memory=False.\n",
      "  for i, chunk in enumerate(pd.read_csv(PATH, chunksize=chunk_size)):\n",
      "/tmp/ipykernel_20800/3832180756.py:3: DtypeWarning: Columns (0,49,59,129,130,131,134,135,136,139) have mixed types. Specify dtype option on import or set low_memory=False.\n",
      "  for i, chunk in enumerate(pd.read_csv(PATH, chunksize=chunk_size)):\n",
      "/tmp/ipykernel_20800/3832180756.py:3: DtypeWarning: Columns (129,130,131,134,135,136,139) have mixed types. Specify dtype option on import or set low_memory=False.\n",
      "  for i, chunk in enumerate(pd.read_csv(PATH, chunksize=chunk_size)):\n",
      "/tmp/ipykernel_20800/3832180756.py:3: DtypeWarning: Columns (129,130,131,134,135,136,139) have mixed types. Specify dtype option on import or set low_memory=False.\n",
      "  for i, chunk in enumerate(pd.read_csv(PATH, chunksize=chunk_size)):\n",
      "/tmp/ipykernel_20800/3832180756.py:3: DtypeWarning: Columns (0,19,49,59,129,130,131,134,135,136,139) have mixed types. Specify dtype option on import or set low_memory=False.\n",
      "  for i, chunk in enumerate(pd.read_csv(PATH, chunksize=chunk_size)):\n",
      "/tmp/ipykernel_20800/3832180756.py:3: DtypeWarning: Columns (19,59) have mixed types. Specify dtype option on import or set low_memory=False.\n",
      "  for i, chunk in enumerate(pd.read_csv(PATH, chunksize=chunk_size)):\n",
      "/tmp/ipykernel_20800/3832180756.py:3: DtypeWarning: Columns (0,19,59,118) have mixed types. Specify dtype option on import or set low_memory=False.\n",
      "  for i, chunk in enumerate(pd.read_csv(PATH, chunksize=chunk_size)):\n",
      "/tmp/ipykernel_20800/3832180756.py:3: DtypeWarning: Columns (129,130,131,134,135,136,139) have mixed types. Specify dtype option on import or set low_memory=False.\n",
      "  for i, chunk in enumerate(pd.read_csv(PATH, chunksize=chunk_size)):\n",
      "/tmp/ipykernel_20800/3832180756.py:3: DtypeWarning: Columns (0,118) have mixed types. Specify dtype option on import or set low_memory=False.\n",
      "  for i, chunk in enumerate(pd.read_csv(PATH, chunksize=chunk_size)):\n",
      "/tmp/ipykernel_20800/3832180756.py:3: DtypeWarning: Columns (19) have mixed types. Specify dtype option on import or set low_memory=False.\n",
      "  for i, chunk in enumerate(pd.read_csv(PATH, chunksize=chunk_size)):\n",
      "/tmp/ipykernel_20800/3832180756.py:3: DtypeWarning: Columns (0) have mixed types. Specify dtype option on import or set low_memory=False.\n",
      "  for i, chunk in enumerate(pd.read_csv(PATH, chunksize=chunk_size)):\n"
     ]
    },
    {
     "name": "stdout",
     "output_type": "stream",
     "text": [
      "\n",
      "✅ Training finished across all chunks.\n"
     ]
    }
   ],
   "source": [
    "drop_cols = [\"earliest_cr_line\", \"sec_app_earliest_cr_line\",\"member_id\"] \n",
    "\n",
    "for i, chunk in enumerate(pd.read_csv(PATH, chunksize=chunk_size)):\n",
    "    if \"loan_status\" not in chunk.columns:\n",
    "        continue\n",
    "    y = chunk[\"loan_status\"].map(y_map).dropna()\n",
    "    X = chunk.loc[y.index].drop(columns=[\"loan_status\"])\n",
    "    X = X.dropna(axis=1, how='all')\n",
    "\n",
    "    X = X.drop(columns=[col for col in drop_cols if col in X.columns])\n",
    "\n",
    "    if preprocessor is None:\n",
    "        numeric_features = X.select_dtypes(include=[\"int64\",\"float64\"]).columns\n",
    "        categorical_features = X.select_dtypes(include=[\"object\"]).columns\n",
    "\n",
    "        preprocessor = ColumnTransformer(\n",
    "           transformers=[\n",
    "            (\"num\", Pipeline([\n",
    "                (\"imputer\", SimpleImputer(strategy=\"mean\")),   # fill NaN with mean\n",
    "                (\"scaler\", StandardScaler())\n",
    "            ]), numeric_features),\n",
    "            \n",
    "            (\"cat\", Pipeline([\n",
    "                (\"imputer\", SimpleImputer(strategy=\"most_frequent\")),  # fill NaN with mode\n",
    "                (\"onehot\", OneHotEncoder(handle_unknown=\"ignore\"))\n",
    "            ]), categorical_features),\n",
    "          ]\n",
    "        )\n",
    "\n",
    "        X_proc = preprocessor.fit_transform(X)\n",
    "    else:\n",
    "        missing_cols = set(preprocessor.feature_names_in_) - set(X.columns)\n",
    "        for col in missing_cols:\n",
    "            X[col] = 0  \n",
    "        X_proc = preprocessor.transform(X[preprocessor.feature_names_in_])\n",
    "    \n",
    "    smote = SMOTE(random_state=42)\n",
    "    X_res, y_res = smote.fit_resample(X_proc, y)\n",
    "\n",
    "    for name, model in incremental_models.items():\n",
    "        if is_first:\n",
    "            model.partial_fit(X_proc, y, classes=classes)\n",
    "        else:\n",
    "            model.partial_fit(X_proc, y)\n",
    "\n",
    "    is_first = False\n",
    "\n",
    "print(\"\\n✅ Training finished across all chunks.\")"
   ]
  },
  {
   "cell_type": "code",
   "execution_count": 6,
   "id": "9e557f94",
   "metadata": {},
   "outputs": [
    {
     "name": "stderr",
     "output_type": "stream",
     "text": [
      "/tmp/ipykernel_20800/2208195158.py:1: DtypeWarning: Columns (19) have mixed types. Specify dtype option on import or set low_memory=False.\n",
      "  test_chunk = next(pd.read_csv(PATH, chunksize=chunk_size))\n"
     ]
    },
    {
     "name": "stdout",
     "output_type": "stream",
     "text": [
      "\n",
      "SGD Test Report:\n",
      "              precision    recall  f1-score   support\n",
      "\n",
      "         0.0       0.86      0.98      0.91      9373\n",
      "         1.0       0.99      0.96      0.98     40588\n",
      "\n",
      "    accuracy                           0.97     49961\n",
      "   macro avg       0.93      0.97      0.95     49961\n",
      "weighted avg       0.97      0.97      0.97     49961\n",
      "\n",
      "\n",
      "Perceptron Test Report:\n",
      "              precision    recall  f1-score   support\n",
      "\n",
      "         0.0       0.75      0.98      0.85      9373\n",
      "         1.0       0.99      0.92      0.96     40588\n",
      "\n",
      "    accuracy                           0.93     49961\n",
      "   macro avg       0.87      0.95      0.90     49961\n",
      "weighted avg       0.95      0.93      0.94     49961\n",
      "\n",
      "\n",
      "PassiveAggressive Test Report:\n",
      "              precision    recall  f1-score   support\n",
      "\n",
      "         0.0       0.78      0.98      0.87      9373\n",
      "         1.0       1.00      0.93      0.96     40588\n",
      "\n",
      "    accuracy                           0.94     49961\n",
      "   macro avg       0.89      0.96      0.92     49961\n",
      "weighted avg       0.95      0.94      0.95     49961\n",
      "\n"
     ]
    }
   ],
   "source": [
    "test_chunk = next(pd.read_csv(PATH, chunksize=chunk_size))\n",
    "y_test = test_chunk[\"loan_status\"].map(y_map).dropna()\n",
    "X_test = test_chunk.loc[y_test.index].drop(columns=[\"loan_status\"])\n",
    "X_test_proc = preprocessor.transform(X_test)\n",
    "\n",
    "for name, model in incremental_models.items():\n",
    "    y_pred = model.predict(X_test_proc)\n",
    "    print(f\"\\n{name} Test Report:\")\n",
    "    print(classification_report(y_test, y_pred))"
   ]
  },
  {
   "cell_type": "code",
   "execution_count": 7,
   "id": "fdafc9e7",
   "metadata": {},
   "outputs": [
    {
     "data": {
      "text/plain": [
       "['preprocessor.pkl']"
      ]
     },
     "execution_count": 7,
     "metadata": {},
     "output_type": "execute_result"
    }
   ],
   "source": [
    "import joblib\n",
    "joblib.dump(incremental_models['SGD'], \"loan.pkl\")\n",
    "joblib.dump(preprocessor, \"preprocessor.pkl\")"
   ]
  }
 ],
 "metadata": {
  "kernelspec": {
   "display_name": "venv",
   "language": "python",
   "name": "python3"
  },
  "language_info": {
   "codemirror_mode": {
    "name": "ipython",
    "version": 3
   },
   "file_extension": ".py",
   "mimetype": "text/x-python",
   "name": "python",
   "nbconvert_exporter": "python",
   "pygments_lexer": "ipython3",
   "version": "3.11.2"
  }
 },
 "nbformat": 4,
 "nbformat_minor": 5
}
